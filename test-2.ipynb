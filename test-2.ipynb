{
 "cells": [
  {
   "cell_type": "code",
   "execution_count": 4,
   "metadata": {},
   "outputs": [],
   "source": [
    "# imports\n",
    "import os, glob, pickle,random\n",
    "import librosa\n",
    "import librosa.display\n",
    "import soundfile\n",
    "import numpy as np  \n",
    "import matplotlib.pyplot as plt\n",
    "from sklearn.model_selection import train_test_split\n",
    "from sklearn.neural_network import MLPClassifier\n",
    "from sklearn.metrics import accuracy_score"
   ]
  },
  {
   "cell_type": "code",
   "execution_count": 5,
   "metadata": {},
   "outputs": [],
   "source": [
    "#DataFlair - Emotions in the RAVDESS dataset\n",
    "emotions={\n",
    "  '03':'happy',\n",
    "  '04':'sad',\n",
    "  '05':'angry',\n",
    "  '06':'fearful',\n",
    "  '07':'disgust',\n",
    "  '08':'surprised'\n",
    "}\n",
    "\n",
    "#DataFlair - Emotions to observe\n",
    "observed_emotions=['happy','sad','angry','fearful','disgust','surprised']"
   ]
  },
  {
   "cell_type": "code",
   "execution_count": 6,
   "metadata": {},
   "outputs": [],
   "source": [
    "#DataFlair - Extract features (mfcc, chroma, mel) from a sound file\n",
    "SAMPLERATE = 16000 # Hz\n",
    "def extract_feature(file_name):\n",
    "    with soundfile.SoundFile(file_name) as sound_file:\n",
    "        sample_rate=sound_file.samplerate\n",
    "        X = sound_file.read(dtype=\"float32\")\n",
    "        if sample_rate != SAMPLERATE:\n",
    "            X = librosa.resample(X, sample_rate, SAMPLERATE)\n",
    "            sample_rate=SAMPLERATE \n",
    "        #print('filename=', file_name, ' samplerate=', sample_rate)\n",
    "        stft=np.abs(librosa.stft(X))\n",
    "        mfccs = np.mean(librosa.feature.mfcc(y=X, sr=sample_rate, n_mfcc=40).T, axis=0)\n",
    "        chroma = np.mean(librosa.feature.chroma_stft(S=stft, sr=sample_rate).T, axis=0)\n",
    "        mel = np.mean(librosa.feature.melspectrogram(X, sr=sample_rate).T, axis=0)\n",
    "        tonnetz = np.mean(librosa.feature.tonnetz(y=X, sr=sample_rate).T, axis=0)\n",
    "        bandwidth = np.mean(librosa.feature.spectral_bandwidth(y=X, sr=sample_rate).T, axis=0)\n",
    "        flatness = np.mean(librosa.feature.spectral_flatness(y=X))\n",
    "        contrast = np.mean(librosa.feature.spectral_contrast(y=X))\n",
    "        result = np.hstack((mfccs, chroma, mel, tonnetz, bandwidth, flatness, contrast))\n",
    "    return (X, result)"
   ]
  },
  {
   "cell_type": "code",
   "execution_count": 7,
   "metadata": {},
   "outputs": [],
   "source": [
    "#DataFlair - Load the data and extract features for each sound file\n",
    "cwd = os.getcwd()\n",
    "def load_data(glob_pattern=cwd+\"/dataset/Actor_*/*.wav\"):\n",
    "    X,x,y=[],[],[]\n",
    "    for file in glob.glob(glob_pattern):\n",
    "        file_name=os.path.basename(file)\n",
    "        if file_name.split(\"-\")[2] == '01' or file_name.split(\"-\")[2] == '02':\n",
    "            continue\n",
    "        emotion=emotions[file_name.split(\"-\")[2]]\n",
    "        if emotion not in observed_emotions:\n",
    "            continue\n",
    "        Xo, feature=extract_feature(file)\n",
    "        X.append(Xo)\n",
    "        x.append(feature)\n",
    "        y.append(emotion)\n",
    "    return X,x,y"
   ]
  },
  {
   "cell_type": "code",
   "execution_count": 8,
   "metadata": {},
   "outputs": [],
   "source": [
    "X,x,y = load_data()"
   ]
  },
  {
   "cell_type": "code",
   "execution_count": null,
   "metadata": {},
   "outputs": [
    {
     "ename": "Error",
     "evalue": "StdErr from ShellExec, Error processing line 1 of C:\\Users\\Firel\\Anaconda3\\lib\\site-packages\\matplotlib-3.1.3-py3.7-nspkg.pth:\r\n\r\n  Traceback (most recent call last):\r\n    File \"C:\\Users\\Firel\\Anaconda3\\lib\\site.py\", line 168, in addpackage\r\n      exec(line)\r\n    File \"<string>\", line 1, in <module>\r\n    File \"<frozen importlib._bootstrap>\", line 580, in module_from_spec\r\n  AttributeError: 'NoneType' object has no attribute 'loader'\r\n\r\nRemainder of file ignored\r\nError processing line 1 of C:\\Users\\Firel\\Anaconda3\\lib\\site-packages\\matplotlib-3.1.3-py3.7-nspkg.pth:\r\n\r\n  Traceback (most recent call last):\r\n    File \"C:\\Users\\Firel\\Anaconda3\\lib\\site.py\", line 168, in addpackage\r\n      exec(line)\r\n    File \"<string>\", line 1, in <module>\r\n    File \"<frozen importlib._bootstrap>\", line 580, in module_from_spec\r\n  AttributeError: 'NoneType' object has no attribute 'loader'\r\n\r\nRemainder of file ignored\r\nError processing line 1 of C:\\Users\\Firel\\Anaconda3\\lib\\site-packages\\matplotlib-3.1.3-py3.7-nspkg.pth:\r\n\r\n  Traceback (most recent call last):\r\n    File \"C:\\Users\\Firel\\Anaconda3\\lib\\site.py\", line 168, in addpackage\r\n      exec(line)\r\n    File \"<string>\", line 1, in <module>\r\n    File \"<frozen importlib._bootstrap>\", line 580, in module_from_spec\r\n  AttributeError: 'NoneType' object has no attribute 'loader'\r\n\r\nRemainder of file ignored\r\n",
     "output_type": "error",
     "traceback": [
      "Error: StdErr from ShellExec, Error processing line 1 of C:\\Users\\Firel\\Anaconda3\\lib\\site-packages\\matplotlib-3.1.3-py3.7-nspkg.pth:",
      "Traceback (most recent call last):",
      "File \"C:\\Users\\Firel\\Anaconda3\\lib\\site.py\", line 168, in addpackage",
      "exec(line)",
      "File \"<string>\", line 1, in <module>",
      "File \"<frozen importlib._bootstrap>\", line 580, in module_from_spec",
      "AttributeError: 'NoneType' object has no attribute 'loader'",
      "Remainder of file ignored",
      "Error processing line 1 of C:\\Users\\Firel\\Anaconda3\\lib\\site-packages\\matplotlib-3.1.3-py3.7-nspkg.pth:",
      "Traceback (most recent call last):",
      "File \"C:\\Users\\Firel\\Anaconda3\\lib\\site.py\", line 168, in addpackage",
      "exec(line)",
      "File \"<string>\", line 1, in <module>",
      "File \"<frozen importlib._bootstrap>\", line 580, in module_from_spec",
      "AttributeError: 'NoneType' object has no attribute 'loader'",
      "Remainder of file ignored",
      "Error processing line 1 of C:\\Users\\Firel\\Anaconda3\\lib\\site-packages\\matplotlib-3.1.3-py3.7-nspkg.pth:",
      "Traceback (most recent call last):",
      "File \"C:\\Users\\Firel\\Anaconda3\\lib\\site.py\", line 168, in addpackage",
      "exec(line)",
      "File \"<string>\", line 1, in <module>",
      "File \"<frozen importlib._bootstrap>\", line 580, in module_from_spec",
      "AttributeError: 'NoneType' object has no attribute 'loader'",
      "Remainder of file ignored",
      "at C.getActivatedEnvironmentVariablesImpl (c:\\Users\\Firel\\.vscode\\extensions\\ms-python.python-2020.2.64397\\out\\client\\extension.js:75:1162837)"
     ]
    }
   ],
   "source": [
    "def plot_emo_specs(x,y,emos,n):\n    index = 1\n    plt.figure()\n    emo_data = dict()\n    nemos = len(emos)\n    fig = plt.figure(figsize=(n*7,nemos*5))\n    for emo in observed_emotions:\n        xys = [xyi for xyi in zip(x, y) if xyi[1] == emo]\n        emo_data[emo] = random.sample(xys, n)\n        for i, samp in enumerate(emo_data[emo]):\n            ax = plt.subplot(nemos, n, index)\n            ax.title.set_text(emo+' '+str(i+1))\n            M = librosa.feature.melspectrogram(y=samp[0])\n            librosa.display.specshow(librosa.power_to_db(M, ref=np.max),\n                         y_axis='mel', x_axis='time')\n            index += 1\n    plt.show()"
   ]
  },
  {
   "cell_type": "code",
   "execution_count": null,
   "metadata": {},
   "outputs": [
    {
     "ename": "Error",
     "evalue": "StdErr from ShellExec, Error processing line 1 of C:\\Users\\Firel\\Anaconda3\\lib\\site-packages\\matplotlib-3.1.3-py3.7-nspkg.pth:\r\n\r\n  Traceback (most recent call last):\r\n    File \"C:\\Users\\Firel\\Anaconda3\\lib\\site.py\", line 168, in addpackage\r\n      exec(line)\r\n    File \"<string>\", line 1, in <module>\r\n    File \"<frozen importlib._bootstrap>\", line 580, in module_from_spec\r\n  AttributeError: 'NoneType' object has no attribute 'loader'\r\n\r\nRemainder of file ignored\r\nError processing line 1 of C:\\Users\\Firel\\Anaconda3\\lib\\site-packages\\matplotlib-3.1.3-py3.7-nspkg.pth:\r\n\r\n  Traceback (most recent call last):\r\n    File \"C:\\Users\\Firel\\Anaconda3\\lib\\site.py\", line 168, in addpackage\r\n      exec(line)\r\n    File \"<string>\", line 1, in <module>\r\n    File \"<frozen importlib._bootstrap>\", line 580, in module_from_spec\r\n  AttributeError: 'NoneType' object has no attribute 'loader'\r\n\r\nRemainder of file ignored\r\nError processing line 1 of C:\\Users\\Firel\\Anaconda3\\lib\\site-packages\\matplotlib-3.1.3-py3.7-nspkg.pth:\r\n\r\n  Traceback (most recent call last):\r\n    File \"C:\\Users\\Firel\\Anaconda3\\lib\\site.py\", line 168, in addpackage\r\n      exec(line)\r\n    File \"<string>\", line 1, in <module>\r\n    File \"<frozen importlib._bootstrap>\", line 580, in module_from_spec\r\n  AttributeError: 'NoneType' object has no attribute 'loader'\r\n\r\nRemainder of file ignored\r\n",
     "output_type": "error",
     "traceback": [
      "Error: StdErr from ShellExec, Error processing line 1 of C:\\Users\\Firel\\Anaconda3\\lib\\site-packages\\matplotlib-3.1.3-py3.7-nspkg.pth:",
      "Traceback (most recent call last):",
      "File \"C:\\Users\\Firel\\Anaconda3\\lib\\site.py\", line 168, in addpackage",
      "exec(line)",
      "File \"<string>\", line 1, in <module>",
      "File \"<frozen importlib._bootstrap>\", line 580, in module_from_spec",
      "AttributeError: 'NoneType' object has no attribute 'loader'",
      "Remainder of file ignored",
      "Error processing line 1 of C:\\Users\\Firel\\Anaconda3\\lib\\site-packages\\matplotlib-3.1.3-py3.7-nspkg.pth:",
      "Traceback (most recent call last):",
      "File \"C:\\Users\\Firel\\Anaconda3\\lib\\site.py\", line 168, in addpackage",
      "exec(line)",
      "File \"<string>\", line 1, in <module>",
      "File \"<frozen importlib._bootstrap>\", line 580, in module_from_spec",
      "AttributeError: 'NoneType' object has no attribute 'loader'",
      "Remainder of file ignored",
      "Error processing line 1 of C:\\Users\\Firel\\Anaconda3\\lib\\site-packages\\matplotlib-3.1.3-py3.7-nspkg.pth:",
      "Traceback (most recent call last):",
      "File \"C:\\Users\\Firel\\Anaconda3\\lib\\site.py\", line 168, in addpackage",
      "exec(line)",
      "File \"<string>\", line 1, in <module>",
      "File \"<frozen importlib._bootstrap>\", line 580, in module_from_spec",
      "AttributeError: 'NoneType' object has no attribute 'loader'",
      "Remainder of file ignored",
      "at C.getActivatedEnvironmentVariablesImpl (c:\\Users\\Firel\\.vscode\\extensions\\ms-python.python-2020.2.64397\\out\\client\\extension.js:75:1162837)"
     ]
    }
   ],
   "source": [
    "plot_emo_specs(X,y,observed_emotions, n=4)"
   ]
  },
  {
   "cell_type": "code",
   "execution_count": null,
   "metadata": {},
   "outputs": [
    {
     "ename": "Error",
     "evalue": "StdErr from ShellExec, Error processing line 1 of C:\\Users\\Firel\\Anaconda3\\lib\\site-packages\\matplotlib-3.1.3-py3.7-nspkg.pth:\r\n\r\n  Traceback (most recent call last):\r\n    File \"C:\\Users\\Firel\\Anaconda3\\lib\\site.py\", line 168, in addpackage\r\n      exec(line)\r\n    File \"<string>\", line 1, in <module>\r\n    File \"<frozen importlib._bootstrap>\", line 580, in module_from_spec\r\n  AttributeError: 'NoneType' object has no attribute 'loader'\r\n\r\nRemainder of file ignored\r\nError processing line 1 of C:\\Users\\Firel\\Anaconda3\\lib\\site-packages\\matplotlib-3.1.3-py3.7-nspkg.pth:\r\n\r\n  Traceback (most recent call last):\r\n    File \"C:\\Users\\Firel\\Anaconda3\\lib\\site.py\", line 168, in addpackage\r\n      exec(line)\r\n    File \"<string>\", line 1, in <module>\r\n    File \"<frozen importlib._bootstrap>\", line 580, in module_from_spec\r\n  AttributeError: 'NoneType' object has no attribute 'loader'\r\n\r\nRemainder of file ignored\r\nError processing line 1 of C:\\Users\\Firel\\Anaconda3\\lib\\site-packages\\matplotlib-3.1.3-py3.7-nspkg.pth:\r\n\r\n  Traceback (most recent call last):\r\n    File \"C:\\Users\\Firel\\Anaconda3\\lib\\site.py\", line 168, in addpackage\r\n      exec(line)\r\n    File \"<string>\", line 1, in <module>\r\n    File \"<frozen importlib._bootstrap>\", line 580, in module_from_spec\r\n  AttributeError: 'NoneType' object has no attribute 'loader'\r\n\r\nRemainder of file ignored\r\n",
     "output_type": "error",
     "traceback": [
      "Error: StdErr from ShellExec, Error processing line 1 of C:\\Users\\Firel\\Anaconda3\\lib\\site-packages\\matplotlib-3.1.3-py3.7-nspkg.pth:",
      "Traceback (most recent call last):",
      "File \"C:\\Users\\Firel\\Anaconda3\\lib\\site.py\", line 168, in addpackage",
      "exec(line)",
      "File \"<string>\", line 1, in <module>",
      "File \"<frozen importlib._bootstrap>\", line 580, in module_from_spec",
      "AttributeError: 'NoneType' object has no attribute 'loader'",
      "Remainder of file ignored",
      "Error processing line 1 of C:\\Users\\Firel\\Anaconda3\\lib\\site-packages\\matplotlib-3.1.3-py3.7-nspkg.pth:",
      "Traceback (most recent call last):",
      "File \"C:\\Users\\Firel\\Anaconda3\\lib\\site.py\", line 168, in addpackage",
      "exec(line)",
      "File \"<string>\", line 1, in <module>",
      "File \"<frozen importlib._bootstrap>\", line 580, in module_from_spec",
      "AttributeError: 'NoneType' object has no attribute 'loader'",
      "Remainder of file ignored",
      "Error processing line 1 of C:\\Users\\Firel\\Anaconda3\\lib\\site-packages\\matplotlib-3.1.3-py3.7-nspkg.pth:",
      "Traceback (most recent call last):",
      "File \"C:\\Users\\Firel\\Anaconda3\\lib\\site.py\", line 168, in addpackage",
      "exec(line)",
      "File \"<string>\", line 1, in <module>",
      "File \"<frozen importlib._bootstrap>\", line 580, in module_from_spec",
      "AttributeError: 'NoneType' object has no attribute 'loader'",
      "Remainder of file ignored",
      "at C.getActivatedEnvironmentVariablesImpl (c:\\Users\\Firel\\.vscode\\extensions\\ms-python.python-2020.2.64397\\out\\client\\extension.js:75:1162837)"
     ]
    }
   ],
   "source": [
    "random.seed(50)\n\n#DataFlair - Split the dataset\nx_train,x_test,y_train,y_test = train_test_split(np.array(x), y, test_size=0.2, random_state=random.randint(1,1000))"
   ]
  },
  {
   "cell_type": "code",
   "execution_count": null,
   "metadata": {},
   "outputs": [
    {
     "ename": "Error",
     "evalue": "StdErr from ShellExec, Error processing line 1 of C:\\Users\\Firel\\Anaconda3\\lib\\site-packages\\matplotlib-3.1.3-py3.7-nspkg.pth:\r\n\r\n  Traceback (most recent call last):\r\n    File \"C:\\Users\\Firel\\Anaconda3\\lib\\site.py\", line 168, in addpackage\r\n      exec(line)\r\n    File \"<string>\", line 1, in <module>\r\n    File \"<frozen importlib._bootstrap>\", line 580, in module_from_spec\r\n  AttributeError: 'NoneType' object has no attribute 'loader'\r\n\r\nRemainder of file ignored\r\nError processing line 1 of C:\\Users\\Firel\\Anaconda3\\lib\\site-packages\\matplotlib-3.1.3-py3.7-nspkg.pth:\r\n\r\n  Traceback (most recent call last):\r\n    File \"C:\\Users\\Firel\\Anaconda3\\lib\\site.py\", line 168, in addpackage\r\n      exec(line)\r\n    File \"<string>\", line 1, in <module>\r\n    File \"<frozen importlib._bootstrap>\", line 580, in module_from_spec\r\n  AttributeError: 'NoneType' object has no attribute 'loader'\r\n\r\nRemainder of file ignored\r\nError processing line 1 of C:\\Users\\Firel\\Anaconda3\\lib\\site-packages\\matplotlib-3.1.3-py3.7-nspkg.pth:\r\n\r\n  Traceback (most recent call last):\r\n    File \"C:\\Users\\Firel\\Anaconda3\\lib\\site.py\", line 168, in addpackage\r\n      exec(line)\r\n    File \"<string>\", line 1, in <module>\r\n    File \"<frozen importlib._bootstrap>\", line 580, in module_from_spec\r\n  AttributeError: 'NoneType' object has no attribute 'loader'\r\n\r\nRemainder of file ignored\r\n",
     "output_type": "error",
     "traceback": [
      "Error: StdErr from ShellExec, Error processing line 1 of C:\\Users\\Firel\\Anaconda3\\lib\\site-packages\\matplotlib-3.1.3-py3.7-nspkg.pth:",
      "Traceback (most recent call last):",
      "File \"C:\\Users\\Firel\\Anaconda3\\lib\\site.py\", line 168, in addpackage",
      "exec(line)",
      "File \"<string>\", line 1, in <module>",
      "File \"<frozen importlib._bootstrap>\", line 580, in module_from_spec",
      "AttributeError: 'NoneType' object has no attribute 'loader'",
      "Remainder of file ignored",
      "Error processing line 1 of C:\\Users\\Firel\\Anaconda3\\lib\\site-packages\\matplotlib-3.1.3-py3.7-nspkg.pth:",
      "Traceback (most recent call last):",
      "File \"C:\\Users\\Firel\\Anaconda3\\lib\\site.py\", line 168, in addpackage",
      "exec(line)",
      "File \"<string>\", line 1, in <module>",
      "File \"<frozen importlib._bootstrap>\", line 580, in module_from_spec",
      "AttributeError: 'NoneType' object has no attribute 'loader'",
      "Remainder of file ignored",
      "Error processing line 1 of C:\\Users\\Firel\\Anaconda3\\lib\\site-packages\\matplotlib-3.1.3-py3.7-nspkg.pth:",
      "Traceback (most recent call last):",
      "File \"C:\\Users\\Firel\\Anaconda3\\lib\\site.py\", line 168, in addpackage",
      "exec(line)",
      "File \"<string>\", line 1, in <module>",
      "File \"<frozen importlib._bootstrap>\", line 580, in module_from_spec",
      "AttributeError: 'NoneType' object has no attribute 'loader'",
      "Remainder of file ignored",
      "at C.getActivatedEnvironmentVariablesImpl (c:\\Users\\Firel\\.vscode\\extensions\\ms-python.python-2020.2.64397\\out\\client\\extension.js:75:1162837)"
     ]
    }
   ],
   "source": [
    "#DataFlair - Get the shape of the training and testing datasets\nprint((x_train.shape[0], x_test.shape[0]))"
   ]
  },
  {
   "cell_type": "code",
   "execution_count": null,
   "metadata": {},
   "outputs": [
    {
     "ename": "Error",
     "evalue": "StdErr from ShellExec, Error processing line 1 of C:\\Users\\Firel\\Anaconda3\\lib\\site-packages\\matplotlib-3.1.3-py3.7-nspkg.pth:\r\n\r\n  Traceback (most recent call last):\r\n    File \"C:\\Users\\Firel\\Anaconda3\\lib\\site.py\", line 168, in addpackage\r\n      exec(line)\r\n    File \"<string>\", line 1, in <module>\r\n    File \"<frozen importlib._bootstrap>\", line 580, in module_from_spec\r\n  AttributeError: 'NoneType' object has no attribute 'loader'\r\n\r\nRemainder of file ignored\r\nError processing line 1 of C:\\Users\\Firel\\Anaconda3\\lib\\site-packages\\matplotlib-3.1.3-py3.7-nspkg.pth:\r\n\r\n  Traceback (most recent call last):\r\n    File \"C:\\Users\\Firel\\Anaconda3\\lib\\site.py\", line 168, in addpackage\r\n      exec(line)\r\n    File \"<string>\", line 1, in <module>\r\n    File \"<frozen importlib._bootstrap>\", line 580, in module_from_spec\r\n  AttributeError: 'NoneType' object has no attribute 'loader'\r\n\r\nRemainder of file ignored\r\nError processing line 1 of C:\\Users\\Firel\\Anaconda3\\lib\\site-packages\\matplotlib-3.1.3-py3.7-nspkg.pth:\r\n\r\n  Traceback (most recent call last):\r\n    File \"C:\\Users\\Firel\\Anaconda3\\lib\\site.py\", line 168, in addpackage\r\n      exec(line)\r\n    File \"<string>\", line 1, in <module>\r\n    File \"<frozen importlib._bootstrap>\", line 580, in module_from_spec\r\n  AttributeError: 'NoneType' object has no attribute 'loader'\r\n\r\nRemainder of file ignored\r\n",
     "output_type": "error",
     "traceback": [
      "Error: StdErr from ShellExec, Error processing line 1 of C:\\Users\\Firel\\Anaconda3\\lib\\site-packages\\matplotlib-3.1.3-py3.7-nspkg.pth:",
      "Traceback (most recent call last):",
      "File \"C:\\Users\\Firel\\Anaconda3\\lib\\site.py\", line 168, in addpackage",
      "exec(line)",
      "File \"<string>\", line 1, in <module>",
      "File \"<frozen importlib._bootstrap>\", line 580, in module_from_spec",
      "AttributeError: 'NoneType' object has no attribute 'loader'",
      "Remainder of file ignored",
      "Error processing line 1 of C:\\Users\\Firel\\Anaconda3\\lib\\site-packages\\matplotlib-3.1.3-py3.7-nspkg.pth:",
      "Traceback (most recent call last):",
      "File \"C:\\Users\\Firel\\Anaconda3\\lib\\site.py\", line 168, in addpackage",
      "exec(line)",
      "File \"<string>\", line 1, in <module>",
      "File \"<frozen importlib._bootstrap>\", line 580, in module_from_spec",
      "AttributeError: 'NoneType' object has no attribute 'loader'",
      "Remainder of file ignored",
      "Error processing line 1 of C:\\Users\\Firel\\Anaconda3\\lib\\site-packages\\matplotlib-3.1.3-py3.7-nspkg.pth:",
      "Traceback (most recent call last):",
      "File \"C:\\Users\\Firel\\Anaconda3\\lib\\site.py\", line 168, in addpackage",
      "exec(line)",
      "File \"<string>\", line 1, in <module>",
      "File \"<frozen importlib._bootstrap>\", line 580, in module_from_spec",
      "AttributeError: 'NoneType' object has no attribute 'loader'",
      "Remainder of file ignored",
      "at C.getActivatedEnvironmentVariablesImpl (c:\\Users\\Firel\\.vscode\\extensions\\ms-python.python-2020.2.64397\\out\\client\\extension.js:75:1162837)"
     ]
    }
   ],
   "source": [
    "#DataFlair - Get the number of features extracted\nprint(f'Features extracted: {x_train.shape[1]}')"
   ]
  },
  {
   "cell_type": "markdown",
   "metadata": {},
   "source": [
    "# Improvements\n",
    "- Ensemble classifier\n",
    "- More features\n",
    "    - librosa documentation\n",
    "- Evolution of signal over time?"
   ]
  },
  {
   "cell_type": "code",
   "execution_count": null,
   "metadata": {},
   "outputs": [
    {
     "ename": "Error",
     "evalue": "StdErr from ShellExec, Error processing line 1 of C:\\Users\\Firel\\Anaconda3\\lib\\site-packages\\matplotlib-3.1.3-py3.7-nspkg.pth:\r\n\r\n  Traceback (most recent call last):\r\n    File \"C:\\Users\\Firel\\Anaconda3\\lib\\site.py\", line 168, in addpackage\r\n      exec(line)\r\n    File \"<string>\", line 1, in <module>\r\n    File \"<frozen importlib._bootstrap>\", line 580, in module_from_spec\r\n  AttributeError: 'NoneType' object has no attribute 'loader'\r\n\r\nRemainder of file ignored\r\nError processing line 1 of C:\\Users\\Firel\\Anaconda3\\lib\\site-packages\\matplotlib-3.1.3-py3.7-nspkg.pth:\r\n\r\n  Traceback (most recent call last):\r\n    File \"C:\\Users\\Firel\\Anaconda3\\lib\\site.py\", line 168, in addpackage\r\n      exec(line)\r\n    File \"<string>\", line 1, in <module>\r\n    File \"<frozen importlib._bootstrap>\", line 580, in module_from_spec\r\n  AttributeError: 'NoneType' object has no attribute 'loader'\r\n\r\nRemainder of file ignored\r\nError processing line 1 of C:\\Users\\Firel\\Anaconda3\\lib\\site-packages\\matplotlib-3.1.3-py3.7-nspkg.pth:\r\n\r\n  Traceback (most recent call last):\r\n    File \"C:\\Users\\Firel\\Anaconda3\\lib\\site.py\", line 168, in addpackage\r\n      exec(line)\r\n    File \"<string>\", line 1, in <module>\r\n    File \"<frozen importlib._bootstrap>\", line 580, in module_from_spec\r\n  AttributeError: 'NoneType' object has no attribute 'loader'\r\n\r\nRemainder of file ignored\r\n",
     "output_type": "error",
     "traceback": [
      "Error: StdErr from ShellExec, Error processing line 1 of C:\\Users\\Firel\\Anaconda3\\lib\\site-packages\\matplotlib-3.1.3-py3.7-nspkg.pth:",
      "Traceback (most recent call last):",
      "File \"C:\\Users\\Firel\\Anaconda3\\lib\\site.py\", line 168, in addpackage",
      "exec(line)",
      "File \"<string>\", line 1, in <module>",
      "File \"<frozen importlib._bootstrap>\", line 580, in module_from_spec",
      "AttributeError: 'NoneType' object has no attribute 'loader'",
      "Remainder of file ignored",
      "Error processing line 1 of C:\\Users\\Firel\\Anaconda3\\lib\\site-packages\\matplotlib-3.1.3-py3.7-nspkg.pth:",
      "Traceback (most recent call last):",
      "File \"C:\\Users\\Firel\\Anaconda3\\lib\\site.py\", line 168, in addpackage",
      "exec(line)",
      "File \"<string>\", line 1, in <module>",
      "File \"<frozen importlib._bootstrap>\", line 580, in module_from_spec",
      "AttributeError: 'NoneType' object has no attribute 'loader'",
      "Remainder of file ignored",
      "Error processing line 1 of C:\\Users\\Firel\\Anaconda3\\lib\\site-packages\\matplotlib-3.1.3-py3.7-nspkg.pth:",
      "Traceback (most recent call last):",
      "File \"C:\\Users\\Firel\\Anaconda3\\lib\\site.py\", line 168, in addpackage",
      "exec(line)",
      "File \"<string>\", line 1, in <module>",
      "File \"<frozen importlib._bootstrap>\", line 580, in module_from_spec",
      "AttributeError: 'NoneType' object has no attribute 'loader'",
      "Remainder of file ignored",
      "at C.getActivatedEnvironmentVariablesImpl (c:\\Users\\Firel\\.vscode\\extensions\\ms-python.python-2020.2.64397\\out\\client\\extension.js:75:1162837)"
     ]
    }
   ],
   "source": [
    "# Apply KNN Classifier using the same features\nfrom sklearn import neighbors\nfrom sklearn import svm\nfrom sklearn import tree\nfrom sklearn import naive_bayes\nfrom sklearn import linear_model\nfrom sklearn.model_selection import KFold\nfrom sklearn.model_selection import StratifiedKFold\nfrom sklearn.model_selection import cross_val_score\nfrom scipy import stats\nimport pprint"
   ]
  },
  {
   "cell_type": "code",
   "execution_count": null,
   "metadata": {},
   "outputs": [
    {
     "ename": "Error",
     "evalue": "StdErr from ShellExec, Error processing line 1 of C:\\Users\\Firel\\Anaconda3\\lib\\site-packages\\matplotlib-3.1.3-py3.7-nspkg.pth:\r\n\r\n  Traceback (most recent call last):\r\n    File \"C:\\Users\\Firel\\Anaconda3\\lib\\site.py\", line 168, in addpackage\r\n      exec(line)\r\n    File \"<string>\", line 1, in <module>\r\n    File \"<frozen importlib._bootstrap>\", line 580, in module_from_spec\r\n  AttributeError: 'NoneType' object has no attribute 'loader'\r\n\r\nRemainder of file ignored\r\nError processing line 1 of C:\\Users\\Firel\\Anaconda3\\lib\\site-packages\\matplotlib-3.1.3-py3.7-nspkg.pth:\r\n\r\n  Traceback (most recent call last):\r\n    File \"C:\\Users\\Firel\\Anaconda3\\lib\\site.py\", line 168, in addpackage\r\n      exec(line)\r\n    File \"<string>\", line 1, in <module>\r\n    File \"<frozen importlib._bootstrap>\", line 580, in module_from_spec\r\n  AttributeError: 'NoneType' object has no attribute 'loader'\r\n\r\nRemainder of file ignored\r\nError processing line 1 of C:\\Users\\Firel\\Anaconda3\\lib\\site-packages\\matplotlib-3.1.3-py3.7-nspkg.pth:\r\n\r\n  Traceback (most recent call last):\r\n    File \"C:\\Users\\Firel\\Anaconda3\\lib\\site.py\", line 168, in addpackage\r\n      exec(line)\r\n    File \"<string>\", line 1, in <module>\r\n    File \"<frozen importlib._bootstrap>\", line 580, in module_from_spec\r\n  AttributeError: 'NoneType' object has no attribute 'loader'\r\n\r\nRemainder of file ignored\r\n",
     "output_type": "error",
     "traceback": [
      "Error: StdErr from ShellExec, Error processing line 1 of C:\\Users\\Firel\\Anaconda3\\lib\\site-packages\\matplotlib-3.1.3-py3.7-nspkg.pth:",
      "Traceback (most recent call last):",
      "File \"C:\\Users\\Firel\\Anaconda3\\lib\\site.py\", line 168, in addpackage",
      "exec(line)",
      "File \"<string>\", line 1, in <module>",
      "File \"<frozen importlib._bootstrap>\", line 580, in module_from_spec",
      "AttributeError: 'NoneType' object has no attribute 'loader'",
      "Remainder of file ignored",
      "Error processing line 1 of C:\\Users\\Firel\\Anaconda3\\lib\\site-packages\\matplotlib-3.1.3-py3.7-nspkg.pth:",
      "Traceback (most recent call last):",
      "File \"C:\\Users\\Firel\\Anaconda3\\lib\\site.py\", line 168, in addpackage",
      "exec(line)",
      "File \"<string>\", line 1, in <module>",
      "File \"<frozen importlib._bootstrap>\", line 580, in module_from_spec",
      "AttributeError: 'NoneType' object has no attribute 'loader'",
      "Remainder of file ignored",
      "Error processing line 1 of C:\\Users\\Firel\\Anaconda3\\lib\\site-packages\\matplotlib-3.1.3-py3.7-nspkg.pth:",
      "Traceback (most recent call last):",
      "File \"C:\\Users\\Firel\\Anaconda3\\lib\\site.py\", line 168, in addpackage",
      "exec(line)",
      "File \"<string>\", line 1, in <module>",
      "File \"<frozen importlib._bootstrap>\", line 580, in module_from_spec",
      "AttributeError: 'NoneType' object has no attribute 'loader'",
      "Remainder of file ignored",
      "at C.getActivatedEnvironmentVariablesImpl (c:\\Users\\Firel\\.vscode\\extensions\\ms-python.python-2020.2.64397\\out\\client\\extension.js:75:1162837)"
     ]
    }
   ],
   "source": [
    "# Classifiers - MLP, K-Nearest Neighbor, Support Vector Machine and Decision Tree Classifier\n\nmlp = MLPClassifier(alpha=0.01, batch_size=128, epsilon=1e-08, hidden_layer_sizes=(500,250,125,), learning_rate='adaptive', max_iter=2500)\n# n=20 seems to be optimal\nknn = neighbors.KNeighborsClassifier(20)\nsvm_clf = svm.SVC()\ndtc = tree.DecisionTreeClassifier(max_depth=4)\nnb = naive_bayes.GaussianNB()\n\n# Newton-cg handles multinomial loss (for multiclass problems)\nlr = linear_model.LogisticRegression(solver='newton-cg')\n\n# Cross Validation using K-Fold\nrandom.seed(1)\nkf5 = KFold(n_splits=5, random_state=random.randint(1,25))\nrandom.seed(1)\nskf5 = StratifiedKFold(n_splits=5, random_state=random.randint(1,25))\nrandom.seed(70)\nkf10 = KFold(n_splits=10, random_state=random.randint(1,1000))\nrandom.seed(1)\nskf10 = StratifiedKFold(n_splits=10, random_state=random.randint(1,25))"
   ]
  },
  {
   "cell_type": "code",
   "execution_count": null,
   "metadata": {},
   "outputs": [
    {
     "ename": "Error",
     "evalue": "StdErr from ShellExec, Error processing line 1 of C:\\Users\\Firel\\Anaconda3\\lib\\site-packages\\matplotlib-3.1.3-py3.7-nspkg.pth:\r\n\r\n  Traceback (most recent call last):\r\n    File \"C:\\Users\\Firel\\Anaconda3\\lib\\site.py\", line 168, in addpackage\r\n      exec(line)\r\n    File \"<string>\", line 1, in <module>\r\n    File \"<frozen importlib._bootstrap>\", line 580, in module_from_spec\r\n  AttributeError: 'NoneType' object has no attribute 'loader'\r\n\r\nRemainder of file ignored\r\nError processing line 1 of C:\\Users\\Firel\\Anaconda3\\lib\\site-packages\\matplotlib-3.1.3-py3.7-nspkg.pth:\r\n\r\n  Traceback (most recent call last):\r\n    File \"C:\\Users\\Firel\\Anaconda3\\lib\\site.py\", line 168, in addpackage\r\n      exec(line)\r\n    File \"<string>\", line 1, in <module>\r\n    File \"<frozen importlib._bootstrap>\", line 580, in module_from_spec\r\n  AttributeError: 'NoneType' object has no attribute 'loader'\r\n\r\nRemainder of file ignored\r\nError processing line 1 of C:\\Users\\Firel\\Anaconda3\\lib\\site-packages\\matplotlib-3.1.3-py3.7-nspkg.pth:\r\n\r\n  Traceback (most recent call last):\r\n    File \"C:\\Users\\Firel\\Anaconda3\\lib\\site.py\", line 168, in addpackage\r\n      exec(line)\r\n    File \"<string>\", line 1, in <module>\r\n    File \"<frozen importlib._bootstrap>\", line 580, in module_from_spec\r\n  AttributeError: 'NoneType' object has no attribute 'loader'\r\n\r\nRemainder of file ignored\r\n",
     "output_type": "error",
     "traceback": [
      "Error: StdErr from ShellExec, Error processing line 1 of C:\\Users\\Firel\\Anaconda3\\lib\\site-packages\\matplotlib-3.1.3-py3.7-nspkg.pth:",
      "Traceback (most recent call last):",
      "File \"C:\\Users\\Firel\\Anaconda3\\lib\\site.py\", line 168, in addpackage",
      "exec(line)",
      "File \"<string>\", line 1, in <module>",
      "File \"<frozen importlib._bootstrap>\", line 580, in module_from_spec",
      "AttributeError: 'NoneType' object has no attribute 'loader'",
      "Remainder of file ignored",
      "Error processing line 1 of C:\\Users\\Firel\\Anaconda3\\lib\\site-packages\\matplotlib-3.1.3-py3.7-nspkg.pth:",
      "Traceback (most recent call last):",
      "File \"C:\\Users\\Firel\\Anaconda3\\lib\\site.py\", line 168, in addpackage",
      "exec(line)",
      "File \"<string>\", line 1, in <module>",
      "File \"<frozen importlib._bootstrap>\", line 580, in module_from_spec",
      "AttributeError: 'NoneType' object has no attribute 'loader'",
      "Remainder of file ignored",
      "Error processing line 1 of C:\\Users\\Firel\\Anaconda3\\lib\\site-packages\\matplotlib-3.1.3-py3.7-nspkg.pth:",
      "Traceback (most recent call last):",
      "File \"C:\\Users\\Firel\\Anaconda3\\lib\\site.py\", line 168, in addpackage",
      "exec(line)",
      "File \"<string>\", line 1, in <module>",
      "File \"<frozen importlib._bootstrap>\", line 580, in module_from_spec",
      "AttributeError: 'NoneType' object has no attribute 'loader'",
      "Remainder of file ignored",
      "at C.getActivatedEnvironmentVariablesImpl (c:\\Users\\Firel\\.vscode\\extensions\\ms-python.python-2020.2.64397\\out\\client\\extension.js:75:1162837)"
     ]
    }
   ],
   "source": [
    "lr_score = cross_val_score(lr, x_train, y_train, cv=kf10)\nprint(\"LogisticRegression: \", stats.describe(lr_score))"
   ]
  },
  {
   "cell_type": "code",
   "execution_count": null,
   "metadata": {},
   "outputs": [
    {
     "ename": "Error",
     "evalue": "StdErr from ShellExec, Error processing line 1 of C:\\Users\\Firel\\Anaconda3\\lib\\site-packages\\matplotlib-3.1.3-py3.7-nspkg.pth:\r\n\r\n  Traceback (most recent call last):\r\n    File \"C:\\Users\\Firel\\Anaconda3\\lib\\site.py\", line 168, in addpackage\r\n      exec(line)\r\n    File \"<string>\", line 1, in <module>\r\n    File \"<frozen importlib._bootstrap>\", line 580, in module_from_spec\r\n  AttributeError: 'NoneType' object has no attribute 'loader'\r\n\r\nRemainder of file ignored\r\nError processing line 1 of C:\\Users\\Firel\\Anaconda3\\lib\\site-packages\\matplotlib-3.1.3-py3.7-nspkg.pth:\r\n\r\n  Traceback (most recent call last):\r\n    File \"C:\\Users\\Firel\\Anaconda3\\lib\\site.py\", line 168, in addpackage\r\n      exec(line)\r\n    File \"<string>\", line 1, in <module>\r\n    File \"<frozen importlib._bootstrap>\", line 580, in module_from_spec\r\n  AttributeError: 'NoneType' object has no attribute 'loader'\r\n\r\nRemainder of file ignored\r\nError processing line 1 of C:\\Users\\Firel\\Anaconda3\\lib\\site-packages\\matplotlib-3.1.3-py3.7-nspkg.pth:\r\n\r\n  Traceback (most recent call last):\r\n    File \"C:\\Users\\Firel\\Anaconda3\\lib\\site.py\", line 168, in addpackage\r\n      exec(line)\r\n    File \"<string>\", line 1, in <module>\r\n    File \"<frozen importlib._bootstrap>\", line 580, in module_from_spec\r\n  AttributeError: 'NoneType' object has no attribute 'loader'\r\n\r\nRemainder of file ignored\r\n",
     "output_type": "error",
     "traceback": [
      "Error: StdErr from ShellExec, Error processing line 1 of C:\\Users\\Firel\\Anaconda3\\lib\\site-packages\\matplotlib-3.1.3-py3.7-nspkg.pth:",
      "Traceback (most recent call last):",
      "File \"C:\\Users\\Firel\\Anaconda3\\lib\\site.py\", line 168, in addpackage",
      "exec(line)",
      "File \"<string>\", line 1, in <module>",
      "File \"<frozen importlib._bootstrap>\", line 580, in module_from_spec",
      "AttributeError: 'NoneType' object has no attribute 'loader'",
      "Remainder of file ignored",
      "Error processing line 1 of C:\\Users\\Firel\\Anaconda3\\lib\\site-packages\\matplotlib-3.1.3-py3.7-nspkg.pth:",
      "Traceback (most recent call last):",
      "File \"C:\\Users\\Firel\\Anaconda3\\lib\\site.py\", line 168, in addpackage",
      "exec(line)",
      "File \"<string>\", line 1, in <module>",
      "File \"<frozen importlib._bootstrap>\", line 580, in module_from_spec",
      "AttributeError: 'NoneType' object has no attribute 'loader'",
      "Remainder of file ignored",
      "Error processing line 1 of C:\\Users\\Firel\\Anaconda3\\lib\\site-packages\\matplotlib-3.1.3-py3.7-nspkg.pth:",
      "Traceback (most recent call last):",
      "File \"C:\\Users\\Firel\\Anaconda3\\lib\\site.py\", line 168, in addpackage",
      "exec(line)",
      "File \"<string>\", line 1, in <module>",
      "File \"<frozen importlib._bootstrap>\", line 580, in module_from_spec",
      "AttributeError: 'NoneType' object has no attribute 'loader'",
      "Remainder of file ignored",
      "at C.getActivatedEnvironmentVariablesImpl (c:\\Users\\Firel\\.vscode\\extensions\\ms-python.python-2020.2.64397\\out\\client\\extension.js:75:1162837)"
     ]
    }
   ],
   "source": [
    "#Scores for different K-folds\nvalidators = [(\"5-fold\", kf5), (\"Stratified 5-fold\",skf5), (\"10-fold\", kf10), (\"Stratified 10-fold\",skf10)]\nfor name, validator in validators:\n    mlp_score = cross_val_score(mlp, x_train, y_train, cv=validator)\n    knn_score = cross_val_score(knn, x_train, y_train, cv=validator)\n    svm_score = cross_val_score(svm_clf, x_train, y_train, cv=validator)\n    dtc_score = cross_val_score(dtc, x_train, y_train, cv=validator)\n    nb_score = cross_val_score(nb, x_train, y_train, cv=validator)\n    lr_score = cross_val_score(lr, x_train, y_train, cv=validator)\n\n    # Scores of all folds per model\n    print()\n    print(name, \"cross validation scores\")\n    print(\"MLP: \", stats.describe(mlp_score))\n    print(\"K-NearestNeighbors: \", stats.describe(knn_score))\n    print(\"SupportVectorMachine: \", stats.describe(svm_score))\n    print(\"DecisionTreeClassifier: \", stats.describe(dtc_score))\n    print(\"NaiveBayesGaussian: \", stats.describe(nb_score))\n    print(\"LogisticRegression: \", stats.describe(lr_score))"
   ]
  },
  {
   "cell_type": "code",
   "execution_count": null,
   "metadata": {},
   "outputs": [
    {
     "ename": "Error",
     "evalue": "StdErr from ShellExec, Error processing line 1 of C:\\Users\\Firel\\Anaconda3\\lib\\site-packages\\matplotlib-3.1.3-py3.7-nspkg.pth:\r\n\r\n  Traceback (most recent call last):\r\n    File \"C:\\Users\\Firel\\Anaconda3\\lib\\site.py\", line 168, in addpackage\r\n      exec(line)\r\n    File \"<string>\", line 1, in <module>\r\n    File \"<frozen importlib._bootstrap>\", line 580, in module_from_spec\r\n  AttributeError: 'NoneType' object has no attribute 'loader'\r\n\r\nRemainder of file ignored\r\nError processing line 1 of C:\\Users\\Firel\\Anaconda3\\lib\\site-packages\\matplotlib-3.1.3-py3.7-nspkg.pth:\r\n\r\n  Traceback (most recent call last):\r\n    File \"C:\\Users\\Firel\\Anaconda3\\lib\\site.py\", line 168, in addpackage\r\n      exec(line)\r\n    File \"<string>\", line 1, in <module>\r\n    File \"<frozen importlib._bootstrap>\", line 580, in module_from_spec\r\n  AttributeError: 'NoneType' object has no attribute 'loader'\r\n\r\nRemainder of file ignored\r\nError processing line 1 of C:\\Users\\Firel\\Anaconda3\\lib\\site-packages\\matplotlib-3.1.3-py3.7-nspkg.pth:\r\n\r\n  Traceback (most recent call last):\r\n    File \"C:\\Users\\Firel\\Anaconda3\\lib\\site.py\", line 168, in addpackage\r\n      exec(line)\r\n    File \"<string>\", line 1, in <module>\r\n    File \"<frozen importlib._bootstrap>\", line 580, in module_from_spec\r\n  AttributeError: 'NoneType' object has no attribute 'loader'\r\n\r\nRemainder of file ignored\r\n",
     "output_type": "error",
     "traceback": [
      "Error: StdErr from ShellExec, Error processing line 1 of C:\\Users\\Firel\\Anaconda3\\lib\\site-packages\\matplotlib-3.1.3-py3.7-nspkg.pth:",
      "Traceback (most recent call last):",
      "File \"C:\\Users\\Firel\\Anaconda3\\lib\\site.py\", line 168, in addpackage",
      "exec(line)",
      "File \"<string>\", line 1, in <module>",
      "File \"<frozen importlib._bootstrap>\", line 580, in module_from_spec",
      "AttributeError: 'NoneType' object has no attribute 'loader'",
      "Remainder of file ignored",
      "Error processing line 1 of C:\\Users\\Firel\\Anaconda3\\lib\\site-packages\\matplotlib-3.1.3-py3.7-nspkg.pth:",
      "Traceback (most recent call last):",
      "File \"C:\\Users\\Firel\\Anaconda3\\lib\\site.py\", line 168, in addpackage",
      "exec(line)",
      "File \"<string>\", line 1, in <module>",
      "File \"<frozen importlib._bootstrap>\", line 580, in module_from_spec",
      "AttributeError: 'NoneType' object has no attribute 'loader'",
      "Remainder of file ignored",
      "Error processing line 1 of C:\\Users\\Firel\\Anaconda3\\lib\\site-packages\\matplotlib-3.1.3-py3.7-nspkg.pth:",
      "Traceback (most recent call last):",
      "File \"C:\\Users\\Firel\\Anaconda3\\lib\\site.py\", line 168, in addpackage",
      "exec(line)",
      "File \"<string>\", line 1, in <module>",
      "File \"<frozen importlib._bootstrap>\", line 580, in module_from_spec",
      "AttributeError: 'NoneType' object has no attribute 'loader'",
      "Remainder of file ignored",
      "at C.getActivatedEnvironmentVariablesImpl (c:\\Users\\Firel\\.vscode\\extensions\\ms-python.python-2020.2.64397\\out\\client\\extension.js:75:1162837)"
     ]
    }
   ],
   "source": [
    "import pickle\nwith open('model.pickle', 'wb') as f:\n    pickle.dump(model, f)\nwith open('knn.pickle', 'wb') as f:\n    pickle.dump(knn, f)"
   ]
  },
  {
   "cell_type": "markdown",
   "metadata": {},
   "source": [
    "**10-fold**\n",
    "```\n",
    "K-NearestNeighbors Mean cross validation score:  0.37417218543046354\n",
    "SupportVectorMachine Cross Val Score:  0.26026490066225166\n",
    "DecisionTreeClassifier Cross Val Score:  0.4152317880794702\n",
    "NaiveBayesGaussian Cross Val Score:  0.3125827814569536\n",
    "LogisticRegression Cross Val Score:  0.6139072847682119\n",
    "```\n",
    "\n",
    "**Stratified 10-fold**\n",
    "```\n",
    "K-NearestNeighbors Mean cross validation score:  0.3655981666640524\n",
    "SupportVectorMachine Cross Val Score:  0.2562045370969063\n",
    "DecisionTreeClassifier Cross Val Score:  0.40846670593832834\n",
    "NaiveBayesGaussian Cross Val Score:  0.31120110605498147\n",
    "LogisticRegression Cross Val Score:  0.6112658790258537\n",
    "```\n",
    "\n",
    "**5-fold**\n",
    "```\n",
    "K-NearestNeighbors Mean cross validation score:  0.35562913907284766\n",
    "SupportVectorMachine Cross Val Score:  0.2549668874172185\n",
    "DecisionTreeClassifier Cross Val Score:  0.4145695364238411\n",
    "NaiveBayesGaussian Cross Val Score:  0.31059602649006623\n",
    "LogisticRegression Cross Val Score:  0.6079470198675497\n",
    "```"
   ]
  },
  {
   "cell_type": "code",
   "execution_count": null,
   "metadata": {},
   "outputs": [
    {
     "ename": "Error",
     "evalue": "StdErr from ShellExec, Error processing line 1 of C:\\Users\\Firel\\Anaconda3\\lib\\site-packages\\matplotlib-3.1.3-py3.7-nspkg.pth:\r\n\r\n  Traceback (most recent call last):\r\n    File \"C:\\Users\\Firel\\Anaconda3\\lib\\site.py\", line 168, in addpackage\r\n      exec(line)\r\n    File \"<string>\", line 1, in <module>\r\n    File \"<frozen importlib._bootstrap>\", line 580, in module_from_spec\r\n  AttributeError: 'NoneType' object has no attribute 'loader'\r\n\r\nRemainder of file ignored\r\nError processing line 1 of C:\\Users\\Firel\\Anaconda3\\lib\\site-packages\\matplotlib-3.1.3-py3.7-nspkg.pth:\r\n\r\n  Traceback (most recent call last):\r\n    File \"C:\\Users\\Firel\\Anaconda3\\lib\\site.py\", line 168, in addpackage\r\n      exec(line)\r\n    File \"<string>\", line 1, in <module>\r\n    File \"<frozen importlib._bootstrap>\", line 580, in module_from_spec\r\n  AttributeError: 'NoneType' object has no attribute 'loader'\r\n\r\nRemainder of file ignored\r\nError processing line 1 of C:\\Users\\Firel\\Anaconda3\\lib\\site-packages\\matplotlib-3.1.3-py3.7-nspkg.pth:\r\n\r\n  Traceback (most recent call last):\r\n    File \"C:\\Users\\Firel\\Anaconda3\\lib\\site.py\", line 168, in addpackage\r\n      exec(line)\r\n    File \"<string>\", line 1, in <module>\r\n    File \"<frozen importlib._bootstrap>\", line 580, in module_from_spec\r\n  AttributeError: 'NoneType' object has no attribute 'loader'\r\n\r\nRemainder of file ignored\r\n",
     "output_type": "error",
     "traceback": [
      "Error: StdErr from ShellExec, Error processing line 1 of C:\\Users\\Firel\\Anaconda3\\lib\\site-packages\\matplotlib-3.1.3-py3.7-nspkg.pth:",
      "Traceback (most recent call last):",
      "File \"C:\\Users\\Firel\\Anaconda3\\lib\\site.py\", line 168, in addpackage",
      "exec(line)",
      "File \"<string>\", line 1, in <module>",
      "File \"<frozen importlib._bootstrap>\", line 580, in module_from_spec",
      "AttributeError: 'NoneType' object has no attribute 'loader'",
      "Remainder of file ignored",
      "Error processing line 1 of C:\\Users\\Firel\\Anaconda3\\lib\\site-packages\\matplotlib-3.1.3-py3.7-nspkg.pth:",
      "Traceback (most recent call last):",
      "File \"C:\\Users\\Firel\\Anaconda3\\lib\\site.py\", line 168, in addpackage",
      "exec(line)",
      "File \"<string>\", line 1, in <module>",
      "File \"<frozen importlib._bootstrap>\", line 580, in module_from_spec",
      "AttributeError: 'NoneType' object has no attribute 'loader'",
      "Remainder of file ignored",
      "Error processing line 1 of C:\\Users\\Firel\\Anaconda3\\lib\\site-packages\\matplotlib-3.1.3-py3.7-nspkg.pth:",
      "Traceback (most recent call last):",
      "File \"C:\\Users\\Firel\\Anaconda3\\lib\\site.py\", line 168, in addpackage",
      "exec(line)",
      "File \"<string>\", line 1, in <module>",
      "File \"<frozen importlib._bootstrap>\", line 580, in module_from_spec",
      "AttributeError: 'NoneType' object has no attribute 'loader'",
      "Remainder of file ignored",
      "at C.getActivatedEnvironmentVariablesImpl (c:\\Users\\Firel\\.vscode\\extensions\\ms-python.python-2020.2.64397\\out\\client\\extension.js:75:1162837)"
     ]
    }
   ],
   "source": [
    "from sklearn.metrics import plot_confusion_matrix\n\n# pax = plt.figure(figsize=(30,30))\nfig = plot_confusion_matrix(mlp, x_test, y_test,\n                      display_labels=observed_emotions,\n                      cmap=plt.cm.Blues, xticks_rotation='vertical', normalize='pred', values_format='.2f')\nfig.ax_.set_title(\"MLP: Emotion detection confusion matrix\")"
   ]
  },
  {
   "cell_type": "code",
   "execution_count": null,
   "metadata": {},
   "outputs": [
    {
     "ename": "Error",
     "evalue": "StdErr from ShellExec, Error processing line 1 of C:\\Users\\Firel\\Anaconda3\\lib\\site-packages\\matplotlib-3.1.3-py3.7-nspkg.pth:\r\n\r\n  Traceback (most recent call last):\r\n    File \"C:\\Users\\Firel\\Anaconda3\\lib\\site.py\", line 168, in addpackage\r\n      exec(line)\r\n    File \"<string>\", line 1, in <module>\r\n    File \"<frozen importlib._bootstrap>\", line 580, in module_from_spec\r\n  AttributeError: 'NoneType' object has no attribute 'loader'\r\n\r\nRemainder of file ignored\r\nError processing line 1 of C:\\Users\\Firel\\Anaconda3\\lib\\site-packages\\matplotlib-3.1.3-py3.7-nspkg.pth:\r\n\r\n  Traceback (most recent call last):\r\n    File \"C:\\Users\\Firel\\Anaconda3\\lib\\site.py\", line 168, in addpackage\r\n      exec(line)\r\n    File \"<string>\", line 1, in <module>\r\n    File \"<frozen importlib._bootstrap>\", line 580, in module_from_spec\r\n  AttributeError: 'NoneType' object has no attribute 'loader'\r\n\r\nRemainder of file ignored\r\nError processing line 1 of C:\\Users\\Firel\\Anaconda3\\lib\\site-packages\\matplotlib-3.1.3-py3.7-nspkg.pth:\r\n\r\n  Traceback (most recent call last):\r\n    File \"C:\\Users\\Firel\\Anaconda3\\lib\\site.py\", line 168, in addpackage\r\n      exec(line)\r\n    File \"<string>\", line 1, in <module>\r\n    File \"<frozen importlib._bootstrap>\", line 580, in module_from_spec\r\n  AttributeError: 'NoneType' object has no attribute 'loader'\r\n\r\nRemainder of file ignored\r\n",
     "output_type": "error",
     "traceback": [
      "Error: StdErr from ShellExec, Error processing line 1 of C:\\Users\\Firel\\Anaconda3\\lib\\site-packages\\matplotlib-3.1.3-py3.7-nspkg.pth:",
      "Traceback (most recent call last):",
      "File \"C:\\Users\\Firel\\Anaconda3\\lib\\site.py\", line 168, in addpackage",
      "exec(line)",
      "File \"<string>\", line 1, in <module>",
      "File \"<frozen importlib._bootstrap>\", line 580, in module_from_spec",
      "AttributeError: 'NoneType' object has no attribute 'loader'",
      "Remainder of file ignored",
      "Error processing line 1 of C:\\Users\\Firel\\Anaconda3\\lib\\site-packages\\matplotlib-3.1.3-py3.7-nspkg.pth:",
      "Traceback (most recent call last):",
      "File \"C:\\Users\\Firel\\Anaconda3\\lib\\site.py\", line 168, in addpackage",
      "exec(line)",
      "File \"<string>\", line 1, in <module>",
      "File \"<frozen importlib._bootstrap>\", line 580, in module_from_spec",
      "AttributeError: 'NoneType' object has no attribute 'loader'",
      "Remainder of file ignored",
      "Error processing line 1 of C:\\Users\\Firel\\Anaconda3\\lib\\site-packages\\matplotlib-3.1.3-py3.7-nspkg.pth:",
      "Traceback (most recent call last):",
      "File \"C:\\Users\\Firel\\Anaconda3\\lib\\site.py\", line 168, in addpackage",
      "exec(line)",
      "File \"<string>\", line 1, in <module>",
      "File \"<frozen importlib._bootstrap>\", line 580, in module_from_spec",
      "AttributeError: 'NoneType' object has no attribute 'loader'",
      "Remainder of file ignored",
      "at C.getActivatedEnvironmentVariablesImpl (c:\\Users\\Firel\\.vscode\\extensions\\ms-python.python-2020.2.64397\\out\\client\\extension.js:75:1162837)"
     ]
    }
   ],
   "source": [
    "import nltk\nimport sklearn\n\nprint('The nltk version is {}.'.format(nltk.__version__))\nprint('The scikit-learn version is {}.'.format(sklearn.__version__))"
   ]
  },
  {
   "cell_type": "code",
   "execution_count": null,
   "metadata": {},
   "outputs": [
    {
     "ename": "Error",
     "evalue": "StdErr from ShellExec, Error processing line 1 of C:\\Users\\Firel\\Anaconda3\\lib\\site-packages\\matplotlib-3.1.3-py3.7-nspkg.pth:\r\n\r\n  Traceback (most recent call last):\r\n    File \"C:\\Users\\Firel\\Anaconda3\\lib\\site.py\", line 168, in addpackage\r\n      exec(line)\r\n    File \"<string>\", line 1, in <module>\r\n    File \"<frozen importlib._bootstrap>\", line 580, in module_from_spec\r\n  AttributeError: 'NoneType' object has no attribute 'loader'\r\n\r\nRemainder of file ignored\r\nError processing line 1 of C:\\Users\\Firel\\Anaconda3\\lib\\site-packages\\matplotlib-3.1.3-py3.7-nspkg.pth:\r\n\r\n  Traceback (most recent call last):\r\n    File \"C:\\Users\\Firel\\Anaconda3\\lib\\site.py\", line 168, in addpackage\r\n      exec(line)\r\n    File \"<string>\", line 1, in <module>\r\n    File \"<frozen importlib._bootstrap>\", line 580, in module_from_spec\r\n  AttributeError: 'NoneType' object has no attribute 'loader'\r\n\r\nRemainder of file ignored\r\nError processing line 1 of C:\\Users\\Firel\\Anaconda3\\lib\\site-packages\\matplotlib-3.1.3-py3.7-nspkg.pth:\r\n\r\n  Traceback (most recent call last):\r\n    File \"C:\\Users\\Firel\\Anaconda3\\lib\\site.py\", line 168, in addpackage\r\n      exec(line)\r\n    File \"<string>\", line 1, in <module>\r\n    File \"<frozen importlib._bootstrap>\", line 580, in module_from_spec\r\n  AttributeError: 'NoneType' object has no attribute 'loader'\r\n\r\nRemainder of file ignored\r\n",
     "output_type": "error",
     "traceback": [
      "Error: StdErr from ShellExec, Error processing line 1 of C:\\Users\\Firel\\Anaconda3\\lib\\site-packages\\matplotlib-3.1.3-py3.7-nspkg.pth:",
      "Traceback (most recent call last):",
      "File \"C:\\Users\\Firel\\Anaconda3\\lib\\site.py\", line 168, in addpackage",
      "exec(line)",
      "File \"<string>\", line 1, in <module>",
      "File \"<frozen importlib._bootstrap>\", line 580, in module_from_spec",
      "AttributeError: 'NoneType' object has no attribute 'loader'",
      "Remainder of file ignored",
      "Error processing line 1 of C:\\Users\\Firel\\Anaconda3\\lib\\site-packages\\matplotlib-3.1.3-py3.7-nspkg.pth:",
      "Traceback (most recent call last):",
      "File \"C:\\Users\\Firel\\Anaconda3\\lib\\site.py\", line 168, in addpackage",
      "exec(line)",
      "File \"<string>\", line 1, in <module>",
      "File \"<frozen importlib._bootstrap>\", line 580, in module_from_spec",
      "AttributeError: 'NoneType' object has no attribute 'loader'",
      "Remainder of file ignored",
      "Error processing line 1 of C:\\Users\\Firel\\Anaconda3\\lib\\site-packages\\matplotlib-3.1.3-py3.7-nspkg.pth:",
      "Traceback (most recent call last):",
      "File \"C:\\Users\\Firel\\Anaconda3\\lib\\site.py\", line 168, in addpackage",
      "exec(line)",
      "File \"<string>\", line 1, in <module>",
      "File \"<frozen importlib._bootstrap>\", line 580, in module_from_spec",
      "AttributeError: 'NoneType' object has no attribute 'loader'",
      "Remainder of file ignored",
      "at C.getActivatedEnvironmentVariablesImpl (c:\\Users\\Firel\\.vscode\\extensions\\ms-python.python-2020.2.64397\\out\\client\\extension.js:75:1162837)"
     ]
    }
   ],
   "source": [
    "scikit-learn"
   ]
  },
  {
   "cell_type": "code",
   "execution_count": null,
   "metadata": {},
   "outputs": [],
   "source": []
  }
 ],
 "metadata": {
  "file_extension": ".py",
  "kernelspec": {
   "display_name": "Python 3.7.3 64-bit ('base': conda)",
   "language": "python",
   "name": "python37364bitbasecondad424485431ff4a8aa076a99cfa3fb48c"
  },
  "language_info": {
   "codemirror_mode": {
    "name": "ipython",
    "version": 3
   },
   "file_extension": ".py",
   "mimetype": "text/x-python",
   "name": "python",
   "nbconvert_exporter": "python",
   "pygments_lexer": "ipython3",
   "version": "3.7.3-final"
  },
  "mimetype": "text/x-python",
  "name": "python",
  "npconvert_exporter": "python",
  "pygments_lexer": "ipython3",
  "version": 3
 },
 "nbformat": 4,
 "nbformat_minor": 2
}